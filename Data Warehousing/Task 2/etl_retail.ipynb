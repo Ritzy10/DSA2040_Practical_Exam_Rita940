{
 "cells": [
  {
   "cell_type": "code",
   "execution_count": 18,
   "id": "c6d20d08",
   "metadata": {},
   "outputs": [],
   "source": [
    "import pandas as pd\n",
    "import sqlite3\n",
    "import logging\n",
    "\n",
    "logging.basicConfig(level=logging.INFO, format=\"%(asctime)s %(levelname)s:%(message)s\")\n"
   ]
  },
  {
   "cell_type": "code",
   "execution_count": 19,
   "id": "01247fec",
   "metadata": {},
   "outputs": [],
   "source": [
    "def extract_excel(path):\n",
    "    df = pd.read_excel(path, engine='openpyxl')\n",
    "    logging.info(f\"Extracted {len(df)} rows from {path}\")\n",
    "    return df\n"
   ]
  },
  {
   "cell_type": "code",
   "execution_count": 20,
   "id": "13f8befb",
   "metadata": {},
   "outputs": [],
   "source": [
    "def transform(df):\n",
    "    df = df.dropna(subset=['InvoiceNo', 'StockCode', 'Description', 'Quantity', 'InvoiceDate', 'UnitPrice', 'CustomerID', 'Country'])\n",
    "    df = df[df['Quantity'] > 0]\n",
    "    df = df[df['UnitPrice'] > 0]\n",
    "    df['TotalSales'] = df['Quantity'] * df['UnitPrice']\n",
    "    logging.info(f\"After transform: {len(df)} rows remain\")\n",
    "    return df\n"
   ]
  },
  {
   "cell_type": "code",
   "execution_count": 21,
   "id": "66ecc915",
   "metadata": {},
   "outputs": [],
   "source": [
    "def build_dimensions(df):\n",
    "    # Product\n",
    "    prod_df = df[['StockCode', 'Description', 'UnitPrice']].drop_duplicates().reset_index(drop=True)\n",
    "    prod_df['product_id'] = prod_df.index + 1\n",
    "\n",
    "    # Customer\n",
    "    cust_df = df.groupby(['CustomerID', 'Country']).agg(\n",
    "        total_purchases=('TotalSales', 'sum'),\n",
    "        join_date=('InvoiceDate', 'min')\n",
    "    ).reset_index()\n",
    "    cust_df['customer_id'] = cust_df.index + 1\n",
    "\n",
    "    # Time\n",
    "    time_df = pd.DataFrame({'date': pd.to_datetime(df['InvoiceDate']).dt.date.unique()})\n",
    "    time_df['day'] = pd.to_datetime(time_df['date']).dt.day\n",
    "    time_df['month'] = pd.to_datetime(time_df['date']).dt.month\n",
    "    time_df['quarter'] = pd.to_datetime(time_df['date']).dt.quarter\n",
    "    time_df['year'] = pd.to_datetime(time_df['date']).dt.year\n",
    "    time_df['is_weekend'] = pd.to_datetime(time_df['date']).dt.weekday >= 5\n",
    "    time_df['time_id'] = time_df.index + 1\n",
    "\n",
    "    return prod_df, cust_df, time_df\n"
   ]
  },
  {
   "cell_type": "code",
   "execution_count": 22,
   "id": "a7d46920",
   "metadata": {},
   "outputs": [],
   "source": [
    "def build_fact(df, prod_df, cust_df, time_df):\n",
    "    fact_df = df.merge(prod_df, on=['Description', 'UnitPrice'], how='left')\n",
    "    fact_df = fact_df.merge(cust_df, left_on=['CustomerID', 'Country'], right_on=['CustomerID', 'Country'], how='left')\n",
    "\n",
    "    fact_df['date_only'] = pd.to_datetime(fact_df['InvoiceDate']).dt.date\n",
    "    fact_df = fact_df.merge(time_df[['date', 'time_id']], left_on='date_only', right_on='date', how='left')\n",
    "\n",
    "    fact_df = fact_df[['InvoiceNo', 'product_id', 'customer_id', 'time_id', 'Quantity', 'UnitPrice', 'TotalSales', 'Country']]\n",
    "    return fact_df\n"
   ]
  },
  {
   "cell_type": "code",
   "execution_count": 23,
   "metadata": {},
   "outputs": [],
   "source": [
    "def load_to_sqlite(prod_df, cust_df, time_df, fact_df, db_path=\"retail_dw.db\", schema_path=\"dw_schema.sql\"):\n",
    "    conn = sqlite3.connect(db_path)\n",
    "\n",
    "    # Drop tables if they exist\n",
    "    conn.executescript(\"\"\"\n",
    "    DROP TABLE IF EXISTS SalesFact;\n",
    "    DROP TABLE IF EXISTS Time;\n",
    "    DROP TABLE IF EXISTS Product;\n",
    "    DROP TABLE IF EXISTS Customer;\n",
    "    \"\"\")\n",
    "\n",
    "    # Load schema\n",
    "    with open(schema_path, 'r') as f:\n",
    "        schema_sql = f.read()\n",
    "    conn.executescript(schema_sql)\n",
    "\n",
    "    # Load data\n",
    "    prod_df.rename(columns={'StockCode':'product_id', 'Description':'product_name', 'UnitPrice':'unit_price'}) \\\n",
    "           .to_sql('Product', conn, if_exists='append', index=False)\n",
    "\n",
    "    cust_df.rename(columns={'CustomerID':'customer_name', 'Country':'country'}) \\\n",
    "           .to_sql('Customer', conn, if_exists='append', index=False)\n",
    "\n",
    "    time_df[['time_id','date','day','month','quarter','year','is_weekend']] \\\n",
    "           .to_sql('Time', conn, if_exists='append', index=False)\n",
    "\n",
    "    fact_df.rename(columns={'InvoiceNo':'invoice_no', 'Quantity':'quantity', 'UnitPrice':'unit_price', 'TotalSales':'total_sales', 'Country':'country'}) \\\n",
    "           .to_sql('SalesFact', conn, if_exists='append', index=False)\n",
    "\n",
    "    conn.commit()\n",
    "\n",
    "    # --- PREVIEW SAMPLE ROWS ---\n",
    "    logging.info(\"Sample rows from each table:\")\n",
    "    for table in [\"Customer\", \"Product\", \"Time\", \"SalesFact\"]:\n",
    "        sample_df = pd.read_sql_query(f\"SELECT * FROM {table} LIMIT 5;\", conn)\n",
    "        print(f\"\\n--- {table} ---\")\n",
    "        print(sample_df)\n",
    "\n",
    "    conn.close()\n",
    "    logging.info(\"Database recreated, loaded, and verified successfully.\")\n"
   ]
  },
  {
   "cell_type": "code",
   "execution_count": 24,
   "metadata": {},
   "outputs": [
    {
     "name": "stderr",
     "output_type": "stream",
     "text": [
      "2025-08-13 18:15:01,862 INFO:Extracted 541909 rows from C:\\Users\\Administrator\\OneDrive\\Desktop\\DSA2040_Practical_Exam_Rita940\\OnlineRetail.xlsx\n",
      "2025-08-13 18:15:02,144 INFO:After transform: 397884 rows remain\n",
      "2025-08-13 18:15:05,938 INFO:Sample rows from each table:\n",
      "2025-08-13 18:15:05,954 INFO:Database recreated, loaded, and verified successfully.\n"
     ]
    },
    {
     "name": "stdout",
     "output_type": "stream",
     "text": [
      "\n",
      "--- Customer ---\n",
      "   customer_id customer_name         country  total_purchases  \\\n",
      "0            1       12346.0  United Kingdom         77183.60   \n",
      "1            2       12347.0         Iceland          4310.00   \n",
      "2            3       12348.0         Finland          1797.24   \n",
      "3            4       12349.0           Italy          1757.55   \n",
      "4            5       12350.0          Norway           334.40   \n",
      "\n",
      "             join_date  \n",
      "0  2011-01-18 10:01:00  \n",
      "1  2010-12-07 14:57:00  \n",
      "2  2010-12-16 19:09:00  \n",
      "3  2011-11-21 09:51:00  \n",
      "4  2011-02-02 16:01:00  \n",
      "\n",
      "--- Product ---\n",
      "   product_id                         product_name category subcategory  \\\n",
      "0           1   WHITE HANGING HEART T-LIGHT HOLDER     None        None   \n",
      "1           2                  WHITE METAL LANTERN     None        None   \n",
      "2           3       CREAM CUPID HEARTS COAT HANGER     None        None   \n",
      "3           4  KNITTED UNION FLAG HOT WATER BOTTLE     None        None   \n",
      "4           5       RED WOOLLY HOTTIE WHITE HEART.     None        None   \n",
      "\n",
      "   unit_price  \n",
      "0        2.55  \n",
      "1        3.39  \n",
      "2        2.75  \n",
      "3        3.39  \n",
      "4        3.39  \n",
      "\n",
      "--- Time ---\n",
      "   time_id        date  day  month  quarter  year  is_weekend\n",
      "0        1  2010-12-01    1     12        4  2010           0\n",
      "1        2  2010-12-02    2     12        4  2010           0\n",
      "2        3  2010-12-03    3     12        4  2010           0\n",
      "3        4  2010-12-05    5     12        4  2010           1\n",
      "4        5  2010-12-06    6     12        4  2010           0\n",
      "\n",
      "--- SalesFact ---\n",
      "   sale_id invoice_no  product_id  customer_id  time_id  quantity  unit_price  \\\n",
      "0        1     536365           1         4025        1         6        2.55   \n",
      "1        2     536365           2         4025        1         6        3.39   \n",
      "2        3     536365           3         4025        1         8        2.75   \n",
      "3        4     536365           4         4025        1         6        3.39   \n",
      "4        5     536365           5         4025        1         6        3.39   \n",
      "\n",
      "   total_sales         country  \n",
      "0        15.30  United Kingdom  \n",
      "1        20.34  United Kingdom  \n",
      "2        22.00  United Kingdom  \n",
      "3        20.34  United Kingdom  \n",
      "4        20.34  United Kingdom  \n"
     ]
    }
   ],
   "source": [
    "def run_etl(excel_path):\n",
    "    df_raw = extract_excel(excel_path)\n",
    "    df_trans = transform(df_raw)\n",
    "    prod_df, cust_df, time_df = build_dimensions(df_trans)\n",
    "    fact_df = build_fact(df_trans, prod_df, cust_df, time_df)\n",
    "    load_to_sqlite(prod_df, cust_df, time_df, fact_df)\n",
    "\n",
    "# Run and verify\n",
    "run_etl(r\"C:\\Users\\Administrator\\OneDrive\\Desktop\\DSA2040_Practical_Exam_Rita940\\OnlineRetail.xlsx\")\n"
   ]
  }
 ],
 "metadata": {
  "kernelspec": {
   "display_name": "Python 3",
   "language": "python",
   "name": "python3"
  },
  "language_info": {
   "codemirror_mode": {
    "name": "ipython",
    "version": 3
   },
   "file_extension": ".py",
   "mimetype": "text/x-python",
   "name": "python",
   "nbconvert_exporter": "python",
   "pygments_lexer": "ipython3",
   "version": "3.13.4"
  }
 },
 "nbformat": 4,
 "nbformat_minor": 5
}
